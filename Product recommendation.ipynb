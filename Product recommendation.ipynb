{
 "cells": [
  {
   "cell_type": "code",
   "execution_count": 1,
   "metadata": {
    "collapsed": true
   },
   "outputs": [],
   "source": [
    "#importing the packages\n",
    "import pandas as pd\n",
    "import matplotlib.pyplot as plt\n",
    "import numpy as np\n",
    "import seaborn as sns\n",
    "from datetime import date,timedelta,datetime\n",
    "%matplotlib inline\n",
    "from sklearn.model_selection import train_test_split\n",
    "from sklearn.preprocessing import MinMaxScaler\n",
    "from sklearn.linear_model import LogisticRegression\n",
    "from sklearn.metrics import confusion_matrix\n",
    "from sklearn.utils import resample\n",
    "from sklearn.metrics import classification_report\n",
    "from sklearn.metrics import plot_roc_curve\n",
    "from sklearn.linear_model import LogisticRegressionCV\n",
    "import glob\n",
    "pd.set_option('mode.chained_assignment', None)\n",
    "from sklearn.feature_selection import SelectKBest\n",
    "from sklearn.feature_selection import chi2\n",
    "from sklearn.model_selection import train_test_split\n",
    "from matplotlib import pyplot as plt\n",
    "from imblearn.over_sampling import SMOTE"
   ]
  },
  {
   "cell_type": "code",
   "execution_count": 2,
   "metadata": {
    "collapsed": true
   },
   "outputs": [],
   "source": [
    "#function to get week end date from date\n",
    "def week_end_end(n):\n",
    "    year, month, day = (int(x) for x in n.split('-'))  \n",
    "    #d is the given date\n",
    "    d =  date(year, month, day)\n",
    "    #0-monday 6-sunday\n",
    "    w = d.weekday()\n",
    "    #print(w)\n",
    "    if w<5:\n",
    "        week_end = d + timedelta(5-w)\n",
    "        week_start = d - timedelta(w+1)\n",
    "    elif w == 5:\n",
    "        week_end = d\n",
    "        week_start = d - timedelta(w+1)\n",
    "    else:\n",
    "        week_end = d + timedelta(6)\n",
    "        week_start = d\n",
    "    return week_end.strftime('%Y-%m-%d')"
   ]
  },
  {
   "cell_type": "code",
   "execution_count": 3,
   "metadata": {
    "collapsed": true
   },
   "outputs": [],
   "source": [
    "#function to get prices of products\n",
    "def similar_product_price(prd,prds):\n",
    "    prd_price = price.loc[price.p_id.isin(prds)][[\"UT_ID\",\"WK_END_DT\",\"p_id\",\"Final_Price\"]]\n",
    "    prd_price_pivot = prd_price.pivot(index=[\"UT_ID\",\"WK_END_DT\"], columns=\"p_id\", values=\"Final_Price\").rename_axis(None, axis=1).reset_index()\n",
    "    renamed_cols = [\"price_\"+str(i) for i in prd_price_pivot.columns.tolist() if i not in [\"UT_ID\",\"WK_END_DT\"]]\n",
    "    renamed_cols[renamed_cols.index(\"price_\"+str(prd))] = \"price\"\n",
    "    prd_price_pivot.columns = [\"UT_ID\",\"WK_END_DT\"] + renamed_cols\n",
    "    prd_price_pivot.columns = [\"UT_ID\",\"WK_END_DT\",\"price\"] + [i for i in prd_price_pivot.columns if \"price_\" in i]\n",
    "    for col in prd_price_pivot.columns[2:].tolist():\n",
    "        prd_price_pivot[col] = prd_price_pivot[col].fillna(prd_price_pivot[col].max())\n",
    "        prd_price_pivot.loc[prd_price_pivot[col]<=0,col] = prd_price_pivot[col].max()\n",
    "        prd_price_pivot[col] = np.log(prd_price_pivot[col])\n",
    "    return prd_price_pivot"
   ]
  },
  {
   "cell_type": "code",
   "execution_count": 4,
   "metadata": {
    "collapsed": true
   },
   "outputs": [],
   "source": [
    "import itertools\n",
    "\n",
    "def plot_confusion_matrix(cm, classes,\n",
    "                          normalize=False,\n",
    "                          title='Confusion matrix',\n",
    "                          cmap=plt.cm.Blues):\n",
    "    \"\"\"\n",
    "    This function prints and plots the confusion matrix.\n",
    "    Normalization can be applied by setting `normalize=True`.\n",
    "    \"\"\"\n",
    "    plt.imshow(cm, interpolation='nearest', cmap=cmap)\n",
    "    plt.title(title)\n",
    "    plt.colorbar()\n",
    "    tick_marks = np.arange(len(classes))\n",
    "    plt.xticks(tick_marks, classes, rotation=0)\n",
    "    plt.yticks(tick_marks, classes)\n",
    "\n",
    "    if normalize:\n",
    "        cm = cm.astype('float') / cm.sum(axis=1)[:, np.newaxis]\n",
    "        #print(\"Normalized confusion matrix\")\n",
    "    else:\n",
    "        1#print('Confusion matrix, without normalization')\n",
    "\n",
    "    #print(cm)\n",
    "\n",
    "    thresh = cm.max() / 2.\n",
    "    for i, j in itertools.product(range(cm.shape[0]), range(cm.shape[1])):\n",
    "        plt.text(j, i, cm[i, j],\n",
    "                 horizontalalignment=\"center\",\n",
    "                 color=\"white\" if cm[i, j] > thresh else \"black\")\n",
    "\n",
    "    plt.tight_layout()\n",
    "    plt.ylabel('True label')\n",
    "    plt.xlabel('Predicted label')"
   ]
  },
  {
   "cell_type": "code",
   "execution_count": 5,
   "metadata": {
    "collapsed": true
   },
   "outputs": [],
   "source": [
    "def add_current_features_feature():\n",
    "\n",
    "    week_dt = datetime.strptime(week, '%Y-%m-%d')\n",
    "\n",
    "    df = transactions_prior_weeks.copy()\n",
    "    df['DAY_DT'] = pd.to_datetime(df['DAY_DT']) #changing DAY_DT column to datetime for fltering and comparison\n",
    " \n",
    "    #creating dataframe containing transaction info based on the lag week time windows\n",
    "    df ['freq_category'] = 'freq'\n",
    "    df.loc[((df['DAY_DT'] > (week_dt- timedelta(  5*7))) & (df['DAY_DT'] <= (week_dt- timedelta(   7)))), ['freq_category']]  = 'freq_0_to_3_week'   \n",
    "    df.loc[((df['DAY_DT'] > (week_dt- timedelta( 23*7))) & (df['DAY_DT'] <= (week_dt- timedelta( 5*7)))), ['freq_category']]  = 'freq_4_to_22_week'  \n",
    "    df.loc[((df['DAY_DT'] > (week_dt- timedelta( 34*7))) & (df['DAY_DT'] <= (week_dt- timedelta(23*7)))), ['freq_category']]  = 'freq_23_to_33_week' \n",
    "    df.loc[((df['DAY_DT'] > (week_dt- timedelta( 56*7))) & (df['DAY_DT'] <= (week_dt- timedelta(34*7)))), ['freq_category']]  = 'freq_34_to_55_week' \n",
    "    df.loc[((df['DAY_DT'] > (week_dt- timedelta(110*7))) & (df['DAY_DT'] <= (week_dt- timedelta(56*7)))), ['freq_category']]  = 'freq_56_to_110_week'\n",
    "    #df.loc[                                               (df['DAY_DT'] <= (week_dt- timedelta(110*7))) , ['freq_category']] ='freq_above_110_week'\n",
    "    #df ['price_category'] = df['freq_category'].str.replace('freq','avg_spend')\n",
    "    \n",
    "    df_date = df.groupby(['MPERK_PGM_ENRL_ID']).agg({'DAY_DT':'max'}).rename(columns={'DAY_DT':'latest_date'}).reset_index()\n",
    "    df_quantity = df.groupby(['MPERK_PGM_ENRL_ID']).agg({'quantity_sold':'max'}).rename(columns={'quantity_sold':'quantity_sold'}).reset_index()\n",
    "    df_quantity['more_than_1_sold_single_trip']= np.where(df_quantity[\"quantity_sold\"   ]>1, 1,0)\n",
    "    \n",
    "    df = df.groupby(['MPERK_PGM_ENRL_ID','freq_category']).agg({'MPERK_PGM_ENRL_ID':'size'}).rename(columns={'MPERK_PGM_ENRL_ID':'count'}).reset_index()\n",
    "    df = pd.pivot_table(df, values = 'count', index=['MPERK_PGM_ENRL_ID'], columns = 'freq_category').fillna(0).reset_index()\n",
    "    #df_price = pd.pivot_table(df, values = 'avg_spent', index=['MPERK_PGM_ENRL_ID'], columns = 'price_category').fillna(0).reset_index()\n",
    "\n",
    "    #df = pd.merge(df_freq,df_price,  on = 'MPERK_PGM_ENRL_ID', how = 'inner').fillna(0)\n",
    "    #del df_freq,df_price\n",
    "    \n",
    "    \n",
    "    if 'freq_0_to_3_week' not in df:\n",
    "        df['freq_0_to_3_week'] = 0\n",
    "        df['recency_0_to_3_week'] = 0\n",
    "    else :\n",
    "        df['recency_0_to_3_week'   ] = np.where(df[\"freq_0_to_3_week\"   ]>0, 1,0)\n",
    "    \n",
    "    if 'freq_4_to_22_week' not in df:\n",
    "        df['freq_4_to_22_week'] = 0\n",
    "        df['recency_4_to_22_week'] = 0\n",
    "    else :\n",
    "        df['recency_4_to_22_week'   ] = np.where(df[\"freq_4_to_22_week\"   ]>0, 1,0)\n",
    "    \n",
    "    if 'freq_23_to_33_week' not in df:\n",
    "        df['freq_23_to_33_week'] = 0\n",
    "        df['recency_23_to_33_week'] = 0\n",
    "    else :\n",
    "        df['recency_23_to_33_week'   ] = np.where(df[\"freq_23_to_33_week\"   ]>0, 1,0)\n",
    "    \n",
    "    if 'freq_34_to_55_week' not in df:\n",
    "        df['freq_34_to_55_week'] = 0\n",
    "        df['recency_34_to_55_week'] = 0\n",
    "    else :\n",
    "        df['recency_34_to_55_week'   ] = np.where(df[\"freq_34_to_55_week\"   ]>0, 1,0)\n",
    "    \n",
    "    if 'freq_56_to_110_week' not in df:\n",
    "        df['freq_56_to_110_week'] = 0\n",
    "        df['recency_56_to_110_week'] = 0\n",
    "    else :\n",
    "        df['recency_56_to_110_week'   ] = np.where(df[\"freq_56_to_110_week\"   ]>0, 1,0)\n",
    "    \n",
    "    df['total_trips'] = df['freq_0_to_3_week'] + df['freq_4_to_22_week'] + df['freq_23_to_33_week'] + df['freq_34_to_55_week'] + df['freq_56_to_110_week'] \n",
    "    \n",
    "    df = pd.merge(df,df_date,  on = 'MPERK_PGM_ENRL_ID', how = 'inner').fillna(0)\n",
    "    df = pd.merge(df,df_quantity,  on = 'MPERK_PGM_ENRL_ID', how = 'inner').fillna(0)\n",
    "    \n",
    "    df['days_since_last_purchase'] =  (week_dt  - df['latest_date'] ).dt.days\n",
    "    \n",
    "    unwanted = df.columns[df.columns.str.startswith('freq')]\n",
    "    df.drop(unwanted, axis=1, inplace=True)\n",
    "    df.drop('latest_date', axis=1, inplace=True)\n",
    "    return df"
   ]
  },
  {
   "cell_type": "code",
   "execution_count": 6,
   "metadata": {
    "collapsed": true
   },
   "outputs": [],
   "source": [
    "#reading other files\n",
    "products = pd.read_csv(r\"/depot/lanhamm/project-meijer2/Other/Meijer_P_ID.txt\", sep=\"\\t\")\n",
    "ut_id = pd.read_csv(r\"/depot/lanhamm/project-meijer2/Other/Meijer_UT_ID.txt\", sep=\"\\t\")\n",
    "basket_affinity = pd.read_csv(r\"/depot/lanhamm/project-meijer2/Other/Meijer_Basket_Affinity.01.31.txt\", sep=\"\\t\")"
   ]
  },
  {
   "cell_type": "code",
   "execution_count": 7,
   "metadata": {
    "collapsed": true
   },
   "outputs": [],
   "source": [
    "#choosing L3 - Meijer Merchandise Area Description for analysis\n",
    "L_3 = \"READY TO EAT CEREAL\" #L_6 = \"FRESH\" \"GROCERY\" \n",
    "products_l3 = products.loc[products[\"MJR_P_SUB_CT_NM_TX\"]==L_3][\"P_ID\"].tolist()"
   ]
  },
  {
   "cell_type": "code",
   "execution_count": 8,
   "metadata": {
    "collapsed": true
   },
   "outputs": [],
   "source": [
    "# #reading the transaction files - run only if you want to create a different subset of transaction dataset\n",
    "# files = glob.glob(\"/depot/lanhamm/project-meijer2/transaction/Meijer_Transaction*.txt\")\n",
    "# transactions = pd.DataFrame()\n",
    "# for i,f in enumerate(files):\n",
    "#     transaction = pd.read_csv(f ,  sep=\"\\t\", parse_dates=[\"DAY_DT\"])\n",
    "#     print(\"file\"+str(i+1)+\" read\", end=\" \")\n",
    "#     transaction = transaction.loc[transaction[\"p_id\"].isin(products_l3)]\n",
    "#     transactions = transactions.append(transaction)\n",
    "#     print(\"and processed\")\n",
    "# transactions.to_csv(\"/scratch/gilbreth/jain475/Transactions_rte_cereal.csv\", index=False)"
   ]
  },
  {
   "cell_type": "code",
   "execution_count": 9,
   "metadata": {
    "collapsed": true
   },
   "outputs": [],
   "source": [
    "#reading the subset transaction file\n",
    "transactions = pd.read_csv(\"/depot/lanhamm/project-meijer2/Transaction subset/Transactions_rte_cereal.csv\" , parse_dates=[\"DAY_DT\"])"
   ]
  },
  {
   "cell_type": "code",
   "execution_count": 10,
   "metadata": {
    "collapsed": true
   },
   "outputs": [],
   "source": [
    "# #reading the price files - run only if you want to create a different subset of price dataset\n",
    "# files = glob.glob(\"/depot/lanhamm/project-meijer2/Pricing_Full_Data/Meijer_Price*.txt\")\n",
    "# price = pd.DataFrame()\n",
    "# for i,f in enumerate(files):\n",
    "#     prc = pd.read_csv(f ,  sep=\" \", parse_dates=[\"WK_END_DT\"])\n",
    "#     print(\"file\"+str(i+1)+\" read\", end=\" \")\n",
    "#     prc = prc.loc[prc[\"p_id\"].isin(products_l3)]\n",
    "#     price = price.append(prc)\n",
    "#     print(\"and processed\")\n",
    "# #price.to_csv(\"/scratch/gilbreth/jain475/Price_rte_cereal.csv\", index=False)"
   ]
  },
  {
   "cell_type": "code",
   "execution_count": 11,
   "metadata": {
    "collapsed": true
   },
   "outputs": [],
   "source": [
    "#reading the subset price file\n",
    "price = pd.read_csv(\"/depot/lanhamm/project-meijer2/Price subset/Price_rte_cereal.csv\" , parse_dates=[\"WK_END_DT\"])"
   ]
  },
  {
   "cell_type": "code",
   "execution_count": 12,
   "metadata": {},
   "outputs": [],
   "source": [
    "#reading the substitutions file\n",
    "substitution = pd.read_csv(\"/home/srinival/depot/lanhamm/project-meijer2/Substitution/Meijer_Substitute_Accept.txt\", sep=\"\\t\", parse_dates=[\"DAY_DT\"])"
   ]
  },
  {
   "cell_type": "code",
   "execution_count": 13,
   "metadata": {
    "collapsed": true
   },
   "outputs": [],
   "source": [
    "#formatting the date columns to str - this takes some time\n",
    "transactions['DAY_DT'] = transactions['DAY_DT'].dt.strftime('%Y-%m-%d')\n",
    "price['WK_END_DT'] = price['WK_END_DT'].dt.strftime('%Y-%m-%d')\n",
    "#substitutions[\"DAY_DT\"] = substitutions['DAY_DT'].dt.strftime('%Y-%m-%d')"
   ]
  },
  {
   "cell_type": "code",
   "execution_count": 14,
   "metadata": {},
   "outputs": [
    {
     "name": "stdout",
     "output_type": "stream",
     "text": [
      "(5735495, 16)\n",
      "(3072767, 11)\n",
      "(387859, 13)\n",
      "(262, 32)\n",
      "(991512, 23)\n"
     ]
    }
   ],
   "source": [
    "#checking the file size\n",
    "print(transactions.shape)\n",
    "print(price.shape)\n",
    "#print(substitutions.shape)\n",
    "print(products.shape)\n",
    "print(ut_id.shape)\n",
    "print(basket_affinity.shape)"
   ]
  },
  {
   "cell_type": "code",
   "execution_count": 15,
   "metadata": {},
   "outputs": [
    {
     "data": {
      "text/html": [
       "<div>\n",
       "<style scoped>\n",
       "    .dataframe tbody tr th:only-of-type {\n",
       "        vertical-align: middle;\n",
       "    }\n",
       "\n",
       "    .dataframe tbody tr th {\n",
       "        vertical-align: top;\n",
       "    }\n",
       "\n",
       "    .dataframe thead th {\n",
       "        text-align: right;\n",
       "    }\n",
       "</style>\n",
       "<table border=\"1\" class=\"dataframe\">\n",
       "  <thead>\n",
       "    <tr style=\"text-align: right;\">\n",
       "      <th></th>\n",
       "      <th>UT_ID</th>\n",
       "      <th>DAY_DT</th>\n",
       "      <th>minute_of_day</th>\n",
       "      <th>TN_ID</th>\n",
       "      <th>SHOP_CHNL_CT</th>\n",
       "      <th>MPERK_PGM_ENRL_ID</th>\n",
       "      <th>p_id</th>\n",
       "      <th>Purchased_at_Regular_Price</th>\n",
       "      <th>Purchased_on_Sale</th>\n",
       "      <th>Received_Additional_Discounts</th>\n",
       "      <th>Regular_Price</th>\n",
       "      <th>Price_Reduction_Amount</th>\n",
       "      <th>Additional_discount_amount</th>\n",
       "      <th>Final_Price</th>\n",
       "      <th>weight_sold</th>\n",
       "      <th>quantity_sold</th>\n",
       "    </tr>\n",
       "  </thead>\n",
       "  <tbody>\n",
       "    <tr>\n",
       "      <th>0</th>\n",
       "      <td>189</td>\n",
       "      <td>2020-07-22</td>\n",
       "      <td>885</td>\n",
       "      <td>6181200805</td>\n",
       "      <td>0</td>\n",
       "      <td>46800020096</td>\n",
       "      <td>490010</td>\n",
       "      <td>1</td>\n",
       "      <td>0</td>\n",
       "      <td>0</td>\n",
       "      <td>3.99</td>\n",
       "      <td>0.0</td>\n",
       "      <td>0.0</td>\n",
       "      <td>3.99</td>\n",
       "      <td>0.0</td>\n",
       "      <td>1</td>\n",
       "    </tr>\n",
       "  </tbody>\n",
       "</table>\n",
       "</div>"
      ],
      "text/plain": [
       "   UT_ID      DAY_DT  minute_of_day       TN_ID  SHOP_CHNL_CT  \\\n",
       "0    189  2020-07-22            885  6181200805             0   \n",
       "\n",
       "   MPERK_PGM_ENRL_ID    p_id  Purchased_at_Regular_Price  Purchased_on_Sale  \\\n",
       "0        46800020096  490010                           1                  0   \n",
       "\n",
       "   Received_Additional_Discounts  Regular_Price  Price_Reduction_Amount  \\\n",
       "0                              0           3.99                     0.0   \n",
       "\n",
       "   Additional_discount_amount  Final_Price  weight_sold  quantity_sold  \n",
       "0                         0.0         3.99          0.0              1  "
      ]
     },
     "execution_count": 15,
     "metadata": {},
     "output_type": "execute_result"
    }
   ],
   "source": [
    "transactions.head(1)"
   ]
  },
  {
   "cell_type": "code",
   "execution_count": 16,
   "metadata": {},
   "outputs": [
    {
     "data": {
      "text/html": [
       "<div>\n",
       "<style scoped>\n",
       "    .dataframe tbody tr th:only-of-type {\n",
       "        vertical-align: middle;\n",
       "    }\n",
       "\n",
       "    .dataframe tbody tr th {\n",
       "        vertical-align: top;\n",
       "    }\n",
       "\n",
       "    .dataframe thead th {\n",
       "        text-align: right;\n",
       "    }\n",
       "</style>\n",
       "<table border=\"1\" class=\"dataframe\">\n",
       "  <thead>\n",
       "    <tr style=\"text-align: right;\">\n",
       "      <th></th>\n",
       "      <th>UT_ID</th>\n",
       "      <th>WK_END_DT</th>\n",
       "      <th>p_id</th>\n",
       "      <th>unit</th>\n",
       "      <th>Price_Reduction_Sale</th>\n",
       "      <th>additional_discount_available</th>\n",
       "      <th>Regular_Price</th>\n",
       "      <th>Price_Reduction_Amount</th>\n",
       "      <th>Shelf_Price</th>\n",
       "      <th>additional_discount</th>\n",
       "      <th>Final_Price</th>\n",
       "    </tr>\n",
       "  </thead>\n",
       "  <tbody>\n",
       "    <tr>\n",
       "      <th>0</th>\n",
       "      <td>7</td>\n",
       "      <td>2020-10-03</td>\n",
       "      <td>476926</td>\n",
       "      <td>EA</td>\n",
       "      <td>0</td>\n",
       "      <td>1</td>\n",
       "      <td>0.01</td>\n",
       "      <td>-1.04</td>\n",
       "      <td>1.05</td>\n",
       "      <td>0.04</td>\n",
       "      <td>1.01</td>\n",
       "    </tr>\n",
       "  </tbody>\n",
       "</table>\n",
       "</div>"
      ],
      "text/plain": [
       "   UT_ID   WK_END_DT    p_id unit  Price_Reduction_Sale  \\\n",
       "0      7  2020-10-03  476926   EA                     0   \n",
       "\n",
       "   additional_discount_available  Regular_Price  Price_Reduction_Amount  \\\n",
       "0                              1           0.01                   -1.04   \n",
       "\n",
       "   Shelf_Price  additional_discount  Final_Price  \n",
       "0         1.05                 0.04         1.01  "
      ]
     },
     "execution_count": 16,
     "metadata": {},
     "output_type": "execute_result"
    }
   ],
   "source": [
    "price.head(1)"
   ]
  },
  {
   "cell_type": "code",
   "execution_count": 17,
   "metadata": {
    "scrolled": true
   },
   "outputs": [
    {
     "data": {
      "text/html": [
       "<div>\n",
       "<style scoped>\n",
       "    .dataframe tbody tr th:only-of-type {\n",
       "        vertical-align: middle;\n",
       "    }\n",
       "\n",
       "    .dataframe tbody tr th {\n",
       "        vertical-align: top;\n",
       "    }\n",
       "\n",
       "    .dataframe thead th {\n",
       "        text-align: right;\n",
       "    }\n",
       "</style>\n",
       "<table border=\"1\" class=\"dataframe\">\n",
       "  <thead>\n",
       "    <tr style=\"text-align: right;\">\n",
       "      <th></th>\n",
       "      <th>MJR_MDS_ARE_ID</th>\n",
       "      <th>MJR_MDS_ARE_NM_TX</th>\n",
       "      <th>MJR_BUS_SEG_ID</th>\n",
       "      <th>MJR_BUS_SEG_NM_TX</th>\n",
       "      <th>MJR_P_CT_ID</th>\n",
       "      <th>MJR_P_CT_NM_TX</th>\n",
       "      <th>MJR_P_SUB_CT_ID</th>\n",
       "      <th>MJR_P_SUB_CT_NM_TX</th>\n",
       "      <th>MJR_P_CLS_ID</th>\n",
       "      <th>MJR_P_CLS_NM_TX</th>\n",
       "      <th>P_BRND_CT_ID</th>\n",
       "      <th>P_ID</th>\n",
       "      <th>P_NM</th>\n",
       "    </tr>\n",
       "  </thead>\n",
       "  <tbody>\n",
       "    <tr>\n",
       "      <th>0</th>\n",
       "      <td>L6-000005</td>\n",
       "      <td>GROCERY</td>\n",
       "      <td>L5-000059</td>\n",
       "      <td>DRY GROCERY</td>\n",
       "      <td>L4-000624</td>\n",
       "      <td>CEREAL PANCAKE AND OATMEAL</td>\n",
       "      <td>L3-002673</td>\n",
       "      <td>READY TO EAT CEREAL</td>\n",
       "      <td>L2-011019</td>\n",
       "      <td>ADULT RTE CEREAL</td>\n",
       "      <td>POST</td>\n",
       "      <td>4084029</td>\n",
       "      <td>POST GREAT GRAINS BLUEBERRY 13.5 OZ</td>\n",
       "    </tr>\n",
       "  </tbody>\n",
       "</table>\n",
       "</div>"
      ],
      "text/plain": [
       "  MJR_MDS_ARE_ID MJR_MDS_ARE_NM_TX MJR_BUS_SEG_ID MJR_BUS_SEG_NM_TX  \\\n",
       "0      L6-000005           GROCERY      L5-000059       DRY GROCERY   \n",
       "\n",
       "  MJR_P_CT_ID              MJR_P_CT_NM_TX MJR_P_SUB_CT_ID  \\\n",
       "0   L4-000624  CEREAL PANCAKE AND OATMEAL       L3-002673   \n",
       "\n",
       "    MJR_P_SUB_CT_NM_TX MJR_P_CLS_ID   MJR_P_CLS_NM_TX P_BRND_CT_ID     P_ID  \\\n",
       "0  READY TO EAT CEREAL    L2-011019  ADULT RTE CEREAL         POST  4084029   \n",
       "\n",
       "                                  P_NM  \n",
       "0  POST GREAT GRAINS BLUEBERRY 13.5 OZ  "
      ]
     },
     "execution_count": 17,
     "metadata": {},
     "output_type": "execute_result"
    }
   ],
   "source": [
    "products.head(1)"
   ]
  },
  {
   "cell_type": "code",
   "execution_count": 18,
   "metadata": {},
   "outputs": [
    {
     "name": "stdout",
     "output_type": "stream",
     "text": [
      "(5735495, 17)\n",
      "(5735495, 21)\n",
      "(5735495, 24)\n"
     ]
    }
   ],
   "source": [
    "#adding week end date in transactions table\n",
    "transactions[\"WK_END_DT\"] = transactions.DAY_DT.apply(week_end_end)\n",
    "print(transactions.shape)\n",
    "\n",
    "#joining the transactions table with product table\n",
    "transactions = transactions.merge(products[[\"P_ID\",\"P_BRND_CT_ID\",\"MJR_P_SUB_CT_NM_TX\",\"P_NM\"]], left_on=\"p_id\", right_on=\"P_ID\", how=\"left\")\n",
    "print(transactions.shape)\n",
    "\n",
    "#joining the transactions table with price table\n",
    "transactions = transactions.merge(price[[\"WK_END_DT\",\"p_id\",\"UT_ID\",\"Regular_Price\",\"Shelf_Price\",\"Final_Price\"]], on=[\"WK_END_DT\",\"p_id\",\"UT_ID\"], how=\"left\")\n",
    "print(transactions.shape)"
   ]
  },
  {
   "cell_type": "code",
   "execution_count": 19,
   "metadata": {
    "collapsed": true
   },
   "outputs": [],
   "source": [
    "#choosing the week and products for the creation of target dataset\n",
    "weeks = sorted(transactions.WK_END_DT.unique().tolist(), reverse=True)\n",
    "weeks = weeks[0:2]\n",
    "\n",
    "products_model = products.loc[products[\"MJR_P_SUB_CT_NM_TX\"]==L_3][\"P_ID\"].tolist()\n",
    "products_model = transactions.loc[transactions.p_id.isin(products_model)].groupby('p_id').size().reset_index().sort_values(0,ascending=False).p_id.tolist()\n",
    "products_model = products_model[0:10]"
   ]
  },
  {
   "cell_type": "code",
   "execution_count": 20,
   "metadata": {
    "collapsed": true
   },
   "outputs": [],
   "source": [
    "substitution['accepted'] = substitution['accepted'].apply(lambda x: np.where(str(x).isdigit(),x,'0')).astype(int)\n",
    "substitution['rejected'] = substitution['rejected'].apply(lambda x: np.where(str(x).isdigit(),x,'0')).astype(int)"
   ]
  },
  {
   "cell_type": "code",
   "execution_count": 21,
   "metadata": {},
   "outputs": [
    {
     "name": "stdout",
     "output_type": "stream",
     "text": [
      "Week 1\n",
      "Product 1\n",
      "Product 2\n",
      "Product 3\n",
      "Product 4\n",
      "Product 5\n",
      "Product 6\n",
      "Product 7\n",
      "Product 8\n",
      "Product 9\n",
      "Product 10\n",
      "Week 2\n",
      "Product 1\n",
      "Product 2\n",
      "Product 3\n",
      "Product 4\n",
      "Product 5\n",
      "Product 6\n",
      "Product 7\n",
      "Product 8\n",
      "Product 9\n",
      "Product 10\n",
      "Done!\n"
     ]
    }
   ],
   "source": [
    "#Creating final dataset with features at customer, product and week level\n",
    "\n",
    "target_dataset_all = pd.DataFrame()\n",
    "for j,week in enumerate(weeks):\n",
    "    print(\"Week\",j+1)\n",
    "    df1 = substitution.loc[substitution['DAY_DT']<= week] \n",
    "    df2 = substitution.loc[substitution['DAY_DT']<= week] \n",
    "    for i,prd in enumerate(products_model):\n",
    "        print(\"Product\",i+1)\n",
    "        transactions_lastweek = transactions.loc[(transactions.WK_END_DT==week)]\n",
    "        transactions_prior_weeks = transactions.loc[(transactions.WK_END_DT<week) & (transactions.p_id==prd)]\n",
    "        customers_shopped_prior_weeks = pd.DataFrame(transactions_prior_weeks.MPERK_PGM_ENRL_ID.unique().tolist(), columns=[\"MPERK_PGM_ENRL_ID\"])\n",
    "        transactions_lastweek[\"bought_product\"] = np.where(transactions_lastweek[\"p_id\"]==prd, 1,0)\n",
    "        cust_bought = transactions_lastweek.loc[transactions_lastweek.bought_product==1].MPERK_PGM_ENRL_ID.unique().tolist()\n",
    "        if len(cust_bought) == 0:\n",
    "            print(\"Product\",i+1,\"skipped\")\n",
    "            continue\n",
    "\n",
    "        transactions_lastweek_notbought = transactions_lastweek.loc[~transactions_lastweek.MPERK_PGM_ENRL_ID.isin(cust_bought)]\n",
    "        transactions_lastweek_notbought = transactions_lastweek_notbought.sort_values([\"MPERK_PGM_ENRL_ID\",\"TN_ID\"], \n",
    "                                                                                                ascending=True).\\\n",
    "                                                            drop_duplicates(subset=['MPERK_PGM_ENRL_ID'], keep='last')\n",
    "        transactions_lastweek_bought = transactions_lastweek.loc[(transactions_lastweek.MPERK_PGM_ENRL_ID.isin(cust_bought))\n",
    "                                                                          & (transactions_lastweek.bought_product==1)]\n",
    "        transactions_lastweek_bought = transactions_lastweek_bought.sort_values([\"MPERK_PGM_ENRL_ID\",\"TN_ID\"], ascending=True).\\\n",
    "                                                            drop_duplicates(subset=['MPERK_PGM_ENRL_ID'], keep='last')\n",
    "        transactions_lastweek_unique = pd.concat([transactions_lastweek_notbought,transactions_lastweek_bought], \n",
    "                                                        ignore_index=True)\n",
    "        target_dataset = transactions_lastweek_unique.groupby([\"MPERK_PGM_ENRL_ID\",\"UT_ID\",\"WK_END_DT\",\"DAY_DT\"]).agg({\"bought_product\":\"sum\"}).reset_index()\n",
    "        target_dataset[\"bought_product\"] =  np.where(target_dataset[\"bought_product\"] >=1, 1,0)\n",
    "        target_dataset = target_dataset.merge(customers_shopped_prior_weeks)\n",
    "        rfm = add_current_features_feature()\n",
    "        target_dataset = target_dataset.merge(rfm, on=\"MPERK_PGM_ENRL_ID\", how=\"left\")\n",
    "        df1 = df1[df1['ordered_p_id']== prd]\n",
    "        df2 = df2[df2['substitute_p_id']== prd]\n",
    "        info = df1.groupby(df1['MPERK_PGM_ENRL_ID']).agg({'out_of_stock': np.sum,'substitute_attempted': np.sum,'accepted':np.sum}).reset_index()\n",
    "        info1 = info[info['out_of_stock']!= 0]\n",
    "        target_dataset = pd.merge(target_dataset,info1[['MPERK_PGM_ENRL_ID','accepted']], on='MPERK_PGM_ENRL_ID', how='left')\n",
    "        target_dataset.rename(columns={'accepted':'sub_accepted'},inplace = True)\n",
    "        info_1 = df2.groupby(df2['MPERK_PGM_ENRL_ID']).agg({'out_of_stock': np.sum,'substitute_attempted': np.sum,'accepted':np.sum}).reset_index()\n",
    "        info2 = info_1[info_1['substitute_attempted']!= 0]\n",
    "        target_dataset = pd.merge(target_dataset, info2[['accepted','MPERK_PGM_ENRL_ID']], on='MPERK_PGM_ENRL_ID', how='left')\n",
    "\n",
    "        #identifying similar products\n",
    "        similar_prds = products_model\n",
    "\n",
    "        #get the prices of product and similar products\n",
    "        product_prices = similar_product_price(prd,similar_prds)\n",
    "\n",
    "        #join with target dataset\n",
    "        target_dataset = target_dataset.merge(product_prices, on=[\"UT_ID\",\"WK_END_DT\"], how=\"inner\")\n",
    "        target_dataset_all = target_dataset_all.append(target_dataset,ignore_index=True)\n",
    "        \n",
    "print(\"Done!\")"
   ]
  },
  {
   "cell_type": "code",
   "execution_count": 22,
   "metadata": {
    "collapsed": true
   },
   "outputs": [],
   "source": [
    "#handling null values\n",
    "nas = target_dataset_all.isna().sum()\n",
    "na_cols = nas[nas>0].index.tolist()\n",
    "for i in na_cols:\n",
    "        target_dataset_all[i] = target_dataset_all[i].fillna(target_dataset_all[i].max())\n",
    "\n",
    "#Filtering only customer with more than 1 trips\n",
    "target_dataset_all = target_dataset_all.loc[target_dataset_all.total_trips>1]\n",
    "    \n"
   ]
  },
  {
   "cell_type": "code",
   "execution_count": 23,
   "metadata": {},
   "outputs": [
    {
     "name": "stdout",
     "output_type": "stream",
     "text": [
      "Step 2: Creating dataset for training\n"
     ]
    }
   ],
   "source": [
    "print(\"Step 2: Creating dataset for training\")\n",
    "#creating X and y datasets\n",
    "y = target_dataset_all[\"bought_product\"]\n",
    "X = target_dataset_all.drop([\"MPERK_PGM_ENRL_ID\",\"UT_ID\",\"WK_END_DT\",\"bought_product\",\"DAY_DT\",'quantity_sold'], axis=1)"
   ]
  },
  {
   "cell_type": "code",
   "execution_count": 24,
   "metadata": {},
   "outputs": [
    {
     "data": {
      "text/plain": [
       "Index(['MPERK_PGM_ENRL_ID', 'UT_ID', 'WK_END_DT', 'DAY_DT', 'bought_product',\n",
       "       'recency_0_to_3_week', 'recency_4_to_22_week', 'recency_23_to_33_week',\n",
       "       'recency_34_to_55_week', 'recency_56_to_110_week', 'total_trips',\n",
       "       'quantity_sold', 'more_than_1_sold_single_trip',\n",
       "       'days_since_last_purchase', 'sub_accepted', 'accepted', 'price',\n",
       "       'price_473121', 'price_473391', 'price_484709', 'price_485543',\n",
       "       'price_485716', 'price_489561', 'price_490010', 'price_490666',\n",
       "       'price_494263', 'price_485801'],\n",
       "      dtype='object')"
      ]
     },
     "execution_count": 24,
     "metadata": {},
     "output_type": "execute_result"
    }
   ],
   "source": [
    "target_dataset_all.columns"
   ]
  },
  {
   "cell_type": "code",
   "execution_count": 25,
   "metadata": {},
   "outputs": [
    {
     "name": "stdout",
     "output_type": "stream",
     "text": [
      "Number transactions X_train dataset:  (52600, 21)\n",
      "Number transactions y_train dataset:  (52600,)\n",
      "Number transactions X_test dataset:  (22544, 21)\n",
      "Number transactions y_test dataset:  (22544,)\n"
     ]
    }
   ],
   "source": [
    "X_train, X_test, y_train, y_test = train_test_split(X, y, test_size=0.3, random_state=0)\n",
    "\n",
    "print(\"Number transactions X_train dataset: \", X_train.shape)\n",
    "print(\"Number transactions y_train dataset: \", y_train.shape)\n",
    "print(\"Number transactions X_test dataset: \", X_test.shape)\n",
    "print(\"Number transactions y_test dataset: \", y_test.shape)"
   ]
  },
  {
   "cell_type": "code",
   "execution_count": 26,
   "metadata": {
    "collapsed": true
   },
   "outputs": [],
   "source": [
    "#scaling the values of features\n",
    "from sklearn.preprocessing import StandardScaler\n",
    "\n",
    "scalar = StandardScaler()\n",
    "X_train = pd.DataFrame(scalar.fit_transform(X_train), columns=X_train.columns)\n",
    "X_test = pd.DataFrame(scalar.transform(X_test), columns=X_test.columns)"
   ]
  },
  {
   "cell_type": "code",
   "execution_count": 27,
   "metadata": {},
   "outputs": [
    {
     "name": "stdout",
     "output_type": "stream",
     "text": [
      "Before OverSampling, counts of label '1': 5093\n",
      "Before OverSampling, counts of label '0': 47507 \n",
      "\n",
      "After OverSampling, the shape of train_X: (95014, 21)\n",
      "After OverSampling, the shape of train_y: (95014,) \n",
      "\n",
      "After OverSampling, counts of label '1': 47507\n",
      "After OverSampling, counts of label '0': 47507\n"
     ]
    }
   ],
   "source": [
    "print(\"Before OverSampling, counts of label '1': {}\".format(sum(y_train==1)))\n",
    "print(\"Before OverSampling, counts of label '0': {} \\n\".format(sum(y_train==0)))\n",
    "\n",
    "sm = SMOTE(random_state=2)\n",
    "X_train_res, y_train_res = sm.fit_resample(X_train, y_train.ravel())\n",
    "\n",
    "print('After OverSampling, the shape of train_X: {}'.format(X_train_res.shape))\n",
    "print('After OverSampling, the shape of train_y: {} \\n'.format(y_train_res.shape))\n",
    "\n",
    "print(\"After OverSampling, counts of label '1': {}\".format(sum(y_train_res==1)))\n",
    "print(\"After OverSampling, counts of label '0': {}\".format(sum(y_train_res==0)))"
   ]
  },
  {
   "cell_type": "code",
   "execution_count": 28,
   "metadata": {},
   "outputs": [
    {
     "name": "stdout",
     "output_type": "stream",
     "text": [
      "Fitting 5 folds for each of 10 candidates, totalling 50 fits\n"
     ]
    },
    {
     "data": {
      "text/plain": [
       "GridSearchCV(cv=5, estimator=LogisticRegression(), n_jobs=3,\n",
       "             param_grid={'C': array([ 1.,  2.,  3.,  4.,  5.,  6.,  7.,  8.,  9., 10.])},\n",
       "             verbose=5)"
      ]
     },
     "execution_count": 28,
     "metadata": {},
     "output_type": "execute_result"
    }
   ],
   "source": [
    "from sklearn.model_selection import GridSearchCV\n",
    "from sklearn.linear_model import LogisticRegression\n",
    "from sklearn.metrics import confusion_matrix, precision_recall_curve, auc, roc_auc_score, roc_curve, recall_score, classification_report\n",
    "\n",
    "parameters = {\n",
    "    'C': np.linspace(1, 10, 10)\n",
    "             }\n",
    "lr = LogisticRegression()\n",
    "clf = GridSearchCV(lr, parameters, cv=5, verbose=5, n_jobs=3)\n",
    "clf.fit(X_train_res, y_train_res.ravel())"
   ]
  },
  {
   "cell_type": "code",
   "execution_count": 29,
   "metadata": {},
   "outputs": [
    {
     "name": "stdout",
     "output_type": "stream",
     "text": [
      "[LibLinear]"
     ]
    },
    {
     "data": {
      "text/plain": [
       "LogisticRegression(penalty='l1', solver='liblinear', verbose=5)"
      ]
     },
     "execution_count": 29,
     "metadata": {},
     "output_type": "execute_result"
    }
   ],
   "source": [
    "lr1 = LogisticRegression(C=clf.best_params_['C'],penalty='l1', solver='liblinear', verbose=5)\n",
    "lr1.fit(X_train_res, y_train_res.ravel())"
   ]
  },
  {
   "cell_type": "code",
   "execution_count": 30,
   "metadata": {},
   "outputs": [],
   "source": [
    "# y_train_pre = lr1.predict(X_train)\n",
    "\n",
    "# cnf_matrix_tra = confusion_matrix(y_train, y_train_pre)\n",
    "\n",
    "# print(\"Recall metric in the train dataset: {}%\".format(100*cnf_matrix_tra[1,1]/(cnf_matrix_tra[1,0]+cnf_matrix_tra[1,1])))\n",
    "# #print(\"Precision metric in the testing dataset: {}%\".format(100*cnf_matrix[1,1]/(cnf_matrix[0,1]+cnf_matrix[1,1])))\n",
    "\n",
    "\n",
    "# class_names = [0,1]\n",
    "# plt.figure()\n",
    "# plot_confusion_matrix(cnf_matrix_tra , classes=class_names, title='Confusion matrix')\n",
    "# plt.show()\n"
   ]
  },
  {
   "cell_type": "code",
   "execution_count": 31,
   "metadata": {},
   "outputs": [
    {
     "name": "stdout",
     "output_type": "stream",
     "text": [
      "Recall metric in the train dataset: 63.085440040415094%\n"
     ]
    },
    {
     "data": {
      "image/png": "[encoded data removed]",
      "text/plain": [
       "<Figure size 432x288 with 2 Axes>"
      ]
     },
     "metadata": {
      "needs_background": "light"
     },
     "output_type": "display_data"
    }
   ],
   "source": [
    "y_train_pre = lr1.predict(X_train_res)\n",
    "\n",
    "cnf_matrix_tra = confusion_matrix(y_train_res, y_train_pre)\n",
    "\n",
    "print(\"Recall metric in the train dataset: {}%\".format(100*cnf_matrix_tra[1,1]/(cnf_matrix_tra[1,0]+cnf_matrix_tra[1,1])))\n",
    "#print(\"Precision metric in the testing dataset: {}%\".format(100*cnf_matrix[1,1]/(cnf_matrix[0,1]+cnf_matrix[1,1])))\n",
    "\n",
    "\n",
    "class_names = [0,1]\n",
    "plt.figure()\n",
    "plot_confusion_matrix(cnf_matrix_tra , classes=class_names, title='Confusion matrix')\n",
    "plt.show()\n"
   ]
  },
  {
   "cell_type": "code",
   "execution_count": 32,
   "metadata": {},
   "outputs": [
    {
     "name": "stdout",
     "output_type": "stream",
     "text": [
      "Recall metric in the testing dataset: 62.1380846325167%\n"
     ]
    },
    {
     "data": {
      "image/png": "[encoded data removed]",
      "text/plain": [
       "<Figure size 432x288 with 2 Axes>"
      ]
     },
     "metadata": {
      "needs_background": "light"
     },
     "output_type": "display_data"
    }
   ],
   "source": [
    "y_pre = lr1.predict(X_test)\n",
    "\n",
    "cnf_matrix = confusion_matrix(y_test, y_pre)\n",
    "\n",
    "print(\"Recall metric in the testing dataset: {}%\".format(100*cnf_matrix[1,1]/(cnf_matrix[1,0]+cnf_matrix[1,1])))\n",
    "#print(\"Precision metric in the testing dataset: {}%\".format(100*cnf_matrix[1,1]/(cnf_matrix[0,1]+cnf_matrix[1,1])))\n",
    "# Plot non-normalized confusion matrix\n",
    "class_names = [0,1]\n",
    "plt.figure()\n",
    "plot_confusion_matrix(cnf_matrix , classes=class_names, title='Confusion matrix')\n",
    "plt.show()"
   ]
  },
  {
   "cell_type": "code",
   "execution_count": 33,
   "metadata": {},
   "outputs": [
    {
     "name": "stdout",
     "output_type": "stream",
     "text": [
      "[LibLinear]"
     ]
    },
    {
     "data": {
      "image/png": "[encoded data removed]",
      "text/plain": [
       "<Figure size 432x288 with 1 Axes>"
      ]
     },
     "metadata": {
      "needs_background": "light"
     },
     "output_type": "display_data"
    }
   ],
   "source": [
    "tmp = lr1.fit(X_train_res, y_train_res.ravel())\n",
    "\n",
    "y_pred_sample_score = tmp.decision_function(X_test)\n",
    "\n",
    "fpr, tpr, thresholds = roc_curve(y_test, y_pred_sample_score)\n",
    "\n",
    "roc_auc = auc(fpr,tpr)\n",
    "\n",
    "# Plot ROC\n",
    "plt.title('Receiver Operating Characteristic')\n",
    "plt.plot(fpr, tpr, 'b',label='AUC = %0.3f'% roc_auc)\n",
    "plt.legend(loc='lower right')\n",
    "plt.plot([0,1],[0,1],'r--')\n",
    "plt.xlim([-0.1,1.0])\n",
    "plt.ylim([-0.1,1.01])\n",
    "plt.ylabel('True Positive Rate')\n",
    "plt.xlabel('False Positive Rate')\n",
    "plt.show()"
   ]
  },
  {
   "cell_type": "code",
   "execution_count": 34,
   "metadata": {},
   "outputs": [
    {
     "data": {
      "text/html": [
       "<div>\n",
       "<style scoped>\n",
       "    .dataframe tbody tr th:only-of-type {\n",
       "        vertical-align: middle;\n",
       "    }\n",
       "\n",
       "    .dataframe tbody tr th {\n",
       "        vertical-align: top;\n",
       "    }\n",
       "\n",
       "    .dataframe thead th {\n",
       "        text-align: right;\n",
       "    }\n",
       "</style>\n",
       "<table border=\"1\" class=\"dataframe\">\n",
       "  <thead>\n",
       "    <tr style=\"text-align: right;\">\n",
       "      <th></th>\n",
       "      <th>variable</th>\n",
       "      <th>coeff</th>\n",
       "    </tr>\n",
       "  </thead>\n",
       "  <tbody>\n",
       "    <tr>\n",
       "      <th>5</th>\n",
       "      <td>total_trips</td>\n",
       "      <td>1.266907</td>\n",
       "    </tr>\n",
       "    <tr>\n",
       "      <th>0</th>\n",
       "      <td>recency_0_to_3_week</td>\n",
       "      <td>1.163997</td>\n",
       "    </tr>\n",
       "    <tr>\n",
       "      <th>1</th>\n",
       "      <td>recency_4_to_22_week</td>\n",
       "      <td>1.125696</td>\n",
       "    </tr>\n",
       "    <tr>\n",
       "      <th>12</th>\n",
       "      <td>price_473391</td>\n",
       "      <td>1.103409</td>\n",
       "    </tr>\n",
       "    <tr>\n",
       "      <th>16</th>\n",
       "      <td>price_489561</td>\n",
       "      <td>1.083741</td>\n",
       "    </tr>\n",
       "    <tr>\n",
       "      <th>19</th>\n",
       "      <td>price_494263</td>\n",
       "      <td>1.069255</td>\n",
       "    </tr>\n",
       "    <tr>\n",
       "      <th>6</th>\n",
       "      <td>more_than_1_sold_single_trip</td>\n",
       "      <td>1.036519</td>\n",
       "    </tr>\n",
       "    <tr>\n",
       "      <th>2</th>\n",
       "      <td>recency_23_to_33_week</td>\n",
       "      <td>1.025280</td>\n",
       "    </tr>\n",
       "    <tr>\n",
       "      <th>11</th>\n",
       "      <td>price_473121</td>\n",
       "      <td>1.021882</td>\n",
       "    </tr>\n",
       "    <tr>\n",
       "      <th>3</th>\n",
       "      <td>recency_34_to_55_week</td>\n",
       "      <td>1.021023</td>\n",
       "    </tr>\n",
       "    <tr>\n",
       "      <th>14</th>\n",
       "      <td>price_485543</td>\n",
       "      <td>1.003267</td>\n",
       "    </tr>\n",
       "    <tr>\n",
       "      <th>17</th>\n",
       "      <td>price_490010</td>\n",
       "      <td>0.994733</td>\n",
       "    </tr>\n",
       "    <tr>\n",
       "      <th>9</th>\n",
       "      <td>accepted</td>\n",
       "      <td>0.989549</td>\n",
       "    </tr>\n",
       "    <tr>\n",
       "      <th>4</th>\n",
       "      <td>recency_56_to_110_week</td>\n",
       "      <td>0.986364</td>\n",
       "    </tr>\n",
       "    <tr>\n",
       "      <th>8</th>\n",
       "      <td>sub_accepted</td>\n",
       "      <td>0.982893</td>\n",
       "    </tr>\n",
       "    <tr>\n",
       "      <th>10</th>\n",
       "      <td>price</td>\n",
       "      <td>0.943700</td>\n",
       "    </tr>\n",
       "    <tr>\n",
       "      <th>18</th>\n",
       "      <td>price_490666</td>\n",
       "      <td>0.931297</td>\n",
       "    </tr>\n",
       "    <tr>\n",
       "      <th>20</th>\n",
       "      <td>price_485801</td>\n",
       "      <td>0.841065</td>\n",
       "    </tr>\n",
       "    <tr>\n",
       "      <th>13</th>\n",
       "      <td>price_484709</td>\n",
       "      <td>0.811202</td>\n",
       "    </tr>\n",
       "    <tr>\n",
       "      <th>15</th>\n",
       "      <td>price_485716</td>\n",
       "      <td>0.786063</td>\n",
       "    </tr>\n",
       "    <tr>\n",
       "      <th>7</th>\n",
       "      <td>days_since_last_purchase</td>\n",
       "      <td>0.766675</td>\n",
       "    </tr>\n",
       "  </tbody>\n",
       "</table>\n",
       "</div>"
      ],
      "text/plain": [
       "                        variable     coeff\n",
       "5                    total_trips  1.266907\n",
       "0            recency_0_to_3_week  1.163997\n",
       "1           recency_4_to_22_week  1.125696\n",
       "12                  price_473391  1.103409\n",
       "16                  price_489561  1.083741\n",
       "19                  price_494263  1.069255\n",
       "6   more_than_1_sold_single_trip  1.036519\n",
       "2          recency_23_to_33_week  1.025280\n",
       "11                  price_473121  1.021882\n",
       "3          recency_34_to_55_week  1.021023\n",
       "14                  price_485543  1.003267\n",
       "17                  price_490010  0.994733\n",
       "9                       accepted  0.989549\n",
       "4         recency_56_to_110_week  0.986364\n",
       "8                   sub_accepted  0.982893\n",
       "10                         price  0.943700\n",
       "18                  price_490666  0.931297\n",
       "20                  price_485801  0.841065\n",
       "13                  price_484709  0.811202\n",
       "15                  price_485716  0.786063\n",
       "7       days_since_last_purchase  0.766675"
      ]
     },
     "execution_count": 34,
     "metadata": {},
     "output_type": "execute_result"
    }
   ],
   "source": [
    "coeff = pd.DataFrame()\n",
    "coeff[\"variable\"] = X_train.columns.tolist()\n",
    "coeff[\"coeff\"] = np.exp(lr1.coef_[0].tolist())\n",
    "coeff.sort_values(\"coeff\", ascending=False)"
   ]
  },
  {
   "cell_type": "code",
   "execution_count": null,
   "metadata": {
    "collapsed": true,
    "jupyter": {
     "outputs_hidden": true
    }
   },
   "outputs": [],
   "source": []
  },
  {
   "cell_type": "code",
   "execution_count": null,
   "metadata": {
    "collapsed": true,
    "jupyter": {
     "outputs_hidden": true
    }
   },
   "outputs": [],
   "source": []
  },
  {
   "cell_type": "code",
   "execution_count": null,
   "metadata": {
    "collapsed": true,
    "jupyter": {
     "outputs_hidden": true
    }
   },
   "outputs": [],
   "source": []
  },
  {
   "cell_type": "code",
   "execution_count": null,
   "metadata": {
    "collapsed": true,
    "jupyter": {
     "outputs_hidden": true
    }
   },
   "outputs": [],
   "source": []
  },
  {
   "cell_type": "code",
   "execution_count": null,
   "metadata": {
    "collapsed": true,
    "jupyter": {
     "outputs_hidden": true
    }
   },
   "outputs": [],
   "source": []
  },
  {
   "cell_type": "code",
   "execution_count": null,
   "metadata": {
    "collapsed": true,
    "jupyter": {
     "outputs_hidden": true
    }
   },
   "outputs": [],
   "source": []
  },
  {
   "cell_type": "code",
   "execution_count": null,
   "metadata": {
    "collapsed": true,
    "jupyter": {
     "outputs_hidden": true
    }
   },
   "outputs": [],
   "source": []
  },
  {
   "cell_type": "code",
   "execution_count": null,
   "metadata": {
    "collapsed": true,
    "jupyter": {
     "outputs_hidden": true
    }
   },
   "outputs": [],
   "source": []
  },
  {
   "cell_type": "code",
   "execution_count": null,
   "metadata": {
    "collapsed": true,
    "jupyter": {
     "outputs_hidden": true
    }
   },
   "outputs": [],
   "source": []
  },
  {
   "cell_type": "code",
   "execution_count": null,
   "metadata": {
    "collapsed": true,
    "jupyter": {
     "outputs_hidden": true
    }
   },
   "outputs": [],
   "source": []
  },
  {
   "cell_type": "code",
   "execution_count": null,
   "metadata": {
    "collapsed": true,
    "jupyter": {
     "outputs_hidden": true
    }
   },
   "outputs": [],
   "source": []
  },
  {
   "cell_type": "code",
   "execution_count": null,
   "metadata": {
    "collapsed": true,
    "jupyter": {
     "outputs_hidden": true
    }
   },
   "outputs": [],
   "source": []
  },
  {
   "cell_type": "code",
   "execution_count": null,
   "metadata": {
    "collapsed": true,
    "jupyter": {
     "outputs_hidden": true
    }
   },
   "outputs": [],
   "source": []
  },
  {
   "cell_type": "code",
   "execution_count": null,
   "metadata": {
    "collapsed": true,
    "jupyter": {
     "outputs_hidden": true
    }
   },
   "outputs": [],
   "source": []
  },
  {
   "cell_type": "code",
   "execution_count": null,
   "metadata": {
    "collapsed": true,
    "jupyter": {
     "outputs_hidden": true
    }
   },
   "outputs": [],
   "source": []
  },
  {
   "cell_type": "code",
   "execution_count": null,
   "metadata": {
    "collapsed": true,
    "jupyter": {
     "outputs_hidden": true
    }
   },
   "outputs": [],
   "source": []
  },
  {
   "cell_type": "code",
   "execution_count": null,
   "metadata": {
    "collapsed": true,
    "jupyter": {
     "outputs_hidden": true
    }
   },
   "outputs": [],
   "source": []
  }
 ],
 "metadata": {
  "kernelspec": {
   "display_name": "Python 3.8 (Anaconda 2020.11)",
   "language": "python",
   "name": "anaconda-2020.11-py38"
  },
  "language_info": {
   "codemirror_mode": {
    "name": "ipython",
    "version": 3
   },
   "file_extension": ".py",
   "mimetype": "text/x-python",
   "name": "python",
   "nbconvert_exporter": "python",
   "pygments_lexer": "ipython3",
   "version": "3.8.5"
  }
 },
 "nbformat": 4,
 "nbformat_minor": 4
}
